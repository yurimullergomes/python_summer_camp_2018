{
 "cells": [
  {
   "cell_type": "code",
   "execution_count": 1,
   "metadata": {},
   "outputs": [
    {
     "name": "stderr",
     "output_type": "stream",
     "text": [
      "c:\\programdata\\anaconda3\\lib\\site-packages\\h5py\\__init__.py:34: FutureWarning: Conversion of the second argument of issubdtype from `float` to `np.floating` is deprecated. In future, it will be treated as `np.float64 == np.dtype(float).type`.\n",
      "  from ._conv import register_converters as _register_converters\n"
     ]
    }
   ],
   "source": [
    "import tensorflow as tf\n",
    "import pickle\n",
    "import numpy as np\n",
    "import pandas as pd\n",
    "import matplotlib.pyplot as plt\n",
    "import pandas as pd\n",
    "%matplotlib inline\n",
    "K=5\n",
    "CATEGORIES = ['Electron','Muon','Tau','Quark']"
   ]
  },
  {
   "cell_type": "code",
   "execution_count": 2,
   "metadata": {},
   "outputs": [],
   "source": [
    "pickle_in = open(\"XLEP.pickle\",\"rb\")\n",
    "X0 = pickle.load(pickle_in)\n",
    "\n",
    "pickle_in = open(\"yLEP.pickle\",\"rb\")\n",
    "z0 = pickle.load(pickle_in)\n",
    "\n",
    "X = np.array(X0)\n",
    "\n",
    "y = np.array(z0)"
   ]
  },
  {
   "cell_type": "markdown",
   "metadata": {},
   "source": [
    "# K-fold cross-validation:"
   ]
  },
  {
   "cell_type": "code",
   "execution_count": 3,
   "metadata": {},
   "outputs": [
    {
     "data": {
      "text/html": [
       "<div>\n",
       "<style>\n",
       "    .dataframe thead tr:only-child th {\n",
       "        text-align: right;\n",
       "    }\n",
       "\n",
       "    .dataframe thead th {\n",
       "        text-align: left;\n",
       "    }\n",
       "\n",
       "    .dataframe tbody tr th {\n",
       "        vertical-align: top;\n",
       "    }\n",
       "</style>\n",
       "<table border=\"1\" class=\"dataframe\">\n",
       "  <thead>\n",
       "    <tr style=\"text-align: right;\">\n",
       "      <th></th>\n",
       "      <th>y_data</th>\n",
       "      <th>X_data</th>\n",
       "    </tr>\n",
       "  </thead>\n",
       "  <tbody>\n",
       "    <tr>\n",
       "      <th>0</th>\n",
       "      <td>0</td>\n",
       "      <td>[0.264923095703125, -0.08237313479185104, -0.0...</td>\n",
       "    </tr>\n",
       "    <tr>\n",
       "      <th>1</th>\n",
       "      <td>1</td>\n",
       "      <td>[0.9543304443359375, 0.46060577034950256, 0.46...</td>\n",
       "    </tr>\n",
       "    <tr>\n",
       "      <th>2</th>\n",
       "      <td>0</td>\n",
       "      <td>[0.1748199462890625, -0.9757654666900635, -0.9...</td>\n",
       "    </tr>\n",
       "    <tr>\n",
       "      <th>3</th>\n",
       "      <td>1</td>\n",
       "      <td>[0.0, -0.8283840417861938, -0.8284099102020264...</td>\n",
       "    </tr>\n",
       "    <tr>\n",
       "      <th>4</th>\n",
       "      <td>0</td>\n",
       "      <td>[4.1381988525390625, 0.46575456857681274, 0.50...</td>\n",
       "    </tr>\n",
       "  </tbody>\n",
       "</table>\n",
       "</div>"
      ],
      "text/plain": [
       "   y_data                                             X_data\n",
       "0       0  [0.264923095703125, -0.08237313479185104, -0.0...\n",
       "1       1  [0.9543304443359375, 0.46060577034950256, 0.46...\n",
       "2       0  [0.1748199462890625, -0.9757654666900635, -0.9...\n",
       "3       1  [0.0, -0.8283840417861938, -0.8284099102020264...\n",
       "4       0  [4.1381988525390625, 0.46575456857681274, 0.50..."
      ]
     },
     "execution_count": 3,
     "metadata": {},
     "output_type": "execute_result"
    }
   ],
   "source": [
    "\n",
    "\n",
    "df_x = pd.DataFrame({'X_data': [X[i] for i in range(len(X))] })\n",
    "df_y = pd.DataFrame({'y_data': y })\n",
    "\n",
    "df_final = pd.concat([df_y,df_x], axis=1)\n",
    "df_final.head()\n"
   ]
  },
  {
   "cell_type": "markdown",
   "metadata": {},
   "source": [
    "# training K-times with shufled data and savind the predictions of each time"
   ]
  },
  {
   "cell_type": "code",
   "execution_count": 4,
   "metadata": {},
   "outputs": [],
   "source": [
    "\n",
    "interval = int(len(X)/K)\n",
    "X_u = df_final['X_data']\n",
    "y_u = df_final['y_data']\n",
    "    \n",
    "Xinterval = []\n",
    "yinterval = []\n",
    "for i in range(K):\n",
    "    xsub_set = []\n",
    "    ysub_set = []\n",
    "    xsub_set = np.array([X_u[j] for j in range(i*interval,(i+1)*interval)])\n",
    "    ysub_set = np.array([y_u[j] for j in range(i*interval,(i+1)*interval)])\n",
    "    Xinterval.append(xsub_set)\n",
    "    yinterval.append(ysub_set)\n"
   ]
  },
  {
   "cell_type": "code",
   "execution_count": 5,
   "metadata": {},
   "outputs": [
    {
     "data": {
      "text/plain": [
       "400000"
      ]
     },
     "execution_count": 5,
     "metadata": {},
     "output_type": "execute_result"
    }
   ],
   "source": [
    "cointerval = (K-1)*interval\n",
    "interval + cointerval"
   ]
  },
  {
   "cell_type": "code",
   "execution_count": 17,
   "metadata": {},
   "outputs": [
    {
     "data": {
      "text/plain": [
       "(80000, 320000)"
      ]
     },
     "execution_count": 17,
     "metadata": {},
     "output_type": "execute_result"
    }
   ],
   "source": [
    "coXinterval = []\n",
    "coyinterval = []\n",
    "for i in range(K):\n",
    "    aaa=[]\n",
    "    bbb=[]\n",
    "    for j in range(K):\n",
    "        if j == i:\n",
    "            pass\n",
    "        else:\n",
    "            aaa.append(Xinterval[j])\n",
    "            bbb.append(yinterval[j])\n",
    "    coXinterval.append(aaa)\n",
    "    coyinterval.append(bbb)\n",
    "\n",
    "for k in range(K):\n",
    "    coXinterval[k] = np.reshape(coXinterval[k],(cointerval,14))\n",
    "    coyinterval[k] = np.reshape(coyinterval[k],(cointerval,1))\n",
    "len(yinterval[2]),len(coyinterval[2])\n",
    "\n"
   ]
  },
  {
   "cell_type": "code",
   "execution_count": 18,
   "metadata": {},
   "outputs": [
    {
     "data": {
      "text/plain": [
       "5"
      ]
     },
     "execution_count": 18,
     "metadata": {},
     "output_type": "execute_result"
    }
   ],
   "source": [
    "len(Xinterval)"
   ]
  },
  {
   "cell_type": "code",
   "execution_count": 19,
   "metadata": {},
   "outputs": [
    {
     "name": "stdout",
     "output_type": "stream",
     "text": [
      "0\n"
     ]
    },
    {
     "name": "stderr",
     "output_type": "stream",
     "text": [
      "c:\\programdata\\anaconda3\\lib\\site-packages\\sklearn\\neural_network\\multilayer_perceptron.py:904: DataConversionWarning: A column-vector y was passed when a 1d array was expected. Please change the shape of y to (n_samples, ), for example using ravel().\n",
      "  y = column_or_1d(y, warn=True)\n"
     ]
    },
    {
     "name": "stdout",
     "output_type": "stream",
     "text": [
      "1\n",
      "2\n",
      "3\n",
      "4\n"
     ]
    }
   ],
   "source": [
    "\n",
    "from sklearn.preprocessing import StandardScaler\n",
    "from sklearn.neural_network import MLPClassifier\n",
    "#import time\n",
    "\n",
    "#dense_layer = 1\n",
    "layer_size = 11\n",
    "#drop_layer = 0.3\n",
    "\n",
    "pred_cross = {}\n",
    "score = []\n",
    "\n",
    "scaler = StandardScaler()\n",
    "\n",
    "for i in range(K):\n",
    "    print(i)\n",
    "    X_test = np.array(Xinterval[i])\n",
    "    X_train = np.array(coXinterval[i])\n",
    "    \n",
    "    \n",
    "    y_test = np.array(yinterval[i])\n",
    "    y_train = np.array(coyinterval[i])\n",
    "           \n",
    "    # Fit only to the training data\n",
    "    scaler.fit(X_train)\n",
    "\n",
    "    # Now apply the transformations to the data:\n",
    "    X_train = scaler.transform(X_train)\n",
    "    X_test = scaler.transform(X_test)    \n",
    "\n",
    "    mlp = MLPClassifier(hidden_layer_sizes=(layer_size,layer_size,layer_size),max_iter=500)\n",
    "\n",
    "    mlp.fit(X_train,y_train)\n",
    "\n",
    "    pred_cross[str(i)+'pred'] = mlp.predict_proba(X_test)\n",
    "#    score.append(mlp.evaluate(X_test,y_test))\n",
    "    "
   ]
  },
  {
   "cell_type": "code",
   "execution_count": null,
   "metadata": {},
   "outputs": [],
   "source": []
  },
  {
   "cell_type": "code",
   "execution_count": 21,
   "metadata": {},
   "outputs": [
    {
     "data": {
      "text/plain": [
       "array([[2.21012744e-10, 8.24382823e-05, 9.99838147e-01, 7.94149784e-05],\n",
       "       [1.32258610e-11, 8.07939719e-10, 1.35000580e-04, 9.99864999e-01],\n",
       "       [7.15318143e-10, 9.99761727e-01, 2.38272538e-04, 8.31888724e-11],\n",
       "       ...,\n",
       "       [5.54085806e-11, 8.53607679e-11, 6.45173067e-04, 9.99354827e-01],\n",
       "       [2.24455492e-08, 9.98602314e-01, 1.39766317e-03, 2.88705591e-10],\n",
       "       [9.99997012e-01, 5.90832149e-08, 2.92908340e-06, 5.70985304e-13]])"
      ]
     },
     "execution_count": 21,
     "metadata": {},
     "output_type": "execute_result"
    }
   ],
   "source": [
    "for i in range(K):\n",
    "    pred_cross[i] = pd.DataFrame(pred_cross[str(i)+'pred'])\n",
    "\n",
    "pred_cross['2pred']"
   ]
  },
  {
   "cell_type": "code",
   "execution_count": 22,
   "metadata": {},
   "outputs": [],
   "source": [
    "y_pred = []\n",
    "y_prob=[]\n",
    "for i in range(K):\n",
    "    y_pred.append([np.argmax(pred_cross[str(i)+'pred'][j]) for j in range(len(y_test))]) #  10 x 40000 array\n",
    "    y_prob.append([np.max(pred_cross[str(i)+'pred'][j]) for j in range(len(y_test))])    # 10 x 40000  array\n",
    "\n"
   ]
  },
  {
   "cell_type": "code",
   "execution_count": 23,
   "metadata": {},
   "outputs": [
    {
     "data": {
      "text/plain": [
       "0.9991653152763128"
      ]
     },
     "execution_count": 23,
     "metadata": {},
     "output_type": "execute_result"
    }
   ],
   "source": [
    "y_prob[4][39999]"
   ]
  },
  {
   "cell_type": "code",
   "execution_count": 24,
   "metadata": {},
   "outputs": [],
   "source": [
    "pd_y_test = pd.DataFrame({'y_test':y_test})\n",
    "pd_y_prob = {}\n",
    "pd_y_pred = {}\n",
    "for i in range(K):\n",
    "    pd_y_prob['y_prob'+str(i)] = y_prob[i]\n",
    "    pd_y_pred['y_pred'+str(i)] = y_pred[i]\n",
    "    \n",
    "pd_y_prob = pd.DataFrame(pd_y_prob)\n",
    "pd_y_pred = pd.DataFrame(pd_y_pred)\n",
    "\n",
    "df_final = pd.concat([pd_y_test,pd_y_pred,pd_y_prob], axis=1)\n"
   ]
  },
  {
   "cell_type": "code",
   "execution_count": 25,
   "metadata": {},
   "outputs": [
    {
     "data": {
      "text/html": [
       "<div>\n",
       "<style>\n",
       "    .dataframe thead tr:only-child th {\n",
       "        text-align: right;\n",
       "    }\n",
       "\n",
       "    .dataframe thead th {\n",
       "        text-align: left;\n",
       "    }\n",
       "\n",
       "    .dataframe tbody tr th {\n",
       "        vertical-align: top;\n",
       "    }\n",
       "</style>\n",
       "<table border=\"1\" class=\"dataframe\">\n",
       "  <thead>\n",
       "    <tr style=\"text-align: right;\">\n",
       "      <th></th>\n",
       "      <th>y_test</th>\n",
       "      <th>y_pred0</th>\n",
       "      <th>y_pred1</th>\n",
       "      <th>y_pred2</th>\n",
       "      <th>y_pred3</th>\n",
       "      <th>y_pred4</th>\n",
       "      <th>y_prob0</th>\n",
       "      <th>y_prob1</th>\n",
       "      <th>y_prob2</th>\n",
       "      <th>y_prob3</th>\n",
       "      <th>y_prob4</th>\n",
       "    </tr>\n",
       "  </thead>\n",
       "  <tbody>\n",
       "    <tr>\n",
       "      <th>0</th>\n",
       "      <td>3</td>\n",
       "      <td>0</td>\n",
       "      <td>2</td>\n",
       "      <td>2</td>\n",
       "      <td>1</td>\n",
       "      <td>3</td>\n",
       "      <td>0.987958</td>\n",
       "      <td>0.995997</td>\n",
       "      <td>0.999838</td>\n",
       "      <td>0.999888</td>\n",
       "      <td>0.999999</td>\n",
       "    </tr>\n",
       "    <tr>\n",
       "      <th>1</th>\n",
       "      <td>2</td>\n",
       "      <td>1</td>\n",
       "      <td>3</td>\n",
       "      <td>3</td>\n",
       "      <td>2</td>\n",
       "      <td>2</td>\n",
       "      <td>0.902727</td>\n",
       "      <td>0.999377</td>\n",
       "      <td>0.999865</td>\n",
       "      <td>0.999989</td>\n",
       "      <td>0.998675</td>\n",
       "    </tr>\n",
       "    <tr>\n",
       "      <th>2</th>\n",
       "      <td>0</td>\n",
       "      <td>0</td>\n",
       "      <td>0</td>\n",
       "      <td>1</td>\n",
       "      <td>2</td>\n",
       "      <td>0</td>\n",
       "      <td>0.999996</td>\n",
       "      <td>0.999960</td>\n",
       "      <td>0.999762</td>\n",
       "      <td>0.998266</td>\n",
       "      <td>0.999763</td>\n",
       "    </tr>\n",
       "    <tr>\n",
       "      <th>3</th>\n",
       "      <td>2</td>\n",
       "      <td>1</td>\n",
       "      <td>3</td>\n",
       "      <td>2</td>\n",
       "      <td>1</td>\n",
       "      <td>2</td>\n",
       "      <td>0.999520</td>\n",
       "      <td>1.000000</td>\n",
       "      <td>0.997260</td>\n",
       "      <td>0.999438</td>\n",
       "      <td>0.999745</td>\n",
       "    </tr>\n",
       "    <tr>\n",
       "      <th>4</th>\n",
       "      <td>3</td>\n",
       "      <td>0</td>\n",
       "      <td>0</td>\n",
       "      <td>1</td>\n",
       "      <td>3</td>\n",
       "      <td>3</td>\n",
       "      <td>0.999781</td>\n",
       "      <td>0.999987</td>\n",
       "      <td>0.999967</td>\n",
       "      <td>0.999999</td>\n",
       "      <td>0.999999</td>\n",
       "    </tr>\n",
       "  </tbody>\n",
       "</table>\n",
       "</div>"
      ],
      "text/plain": [
       "   y_test  y_pred0  y_pred1  y_pred2  y_pred3  y_pred4   y_prob0   y_prob1  \\\n",
       "0       3        0        2        2        1        3  0.987958  0.995997   \n",
       "1       2        1        3        3        2        2  0.902727  0.999377   \n",
       "2       0        0        0        1        2        0  0.999996  0.999960   \n",
       "3       2        1        3        2        1        2  0.999520  1.000000   \n",
       "4       3        0        0        1        3        3  0.999781  0.999987   \n",
       "\n",
       "    y_prob2   y_prob3   y_prob4  \n",
       "0  0.999838  0.999888  0.999999  \n",
       "1  0.999865  0.999989  0.998675  \n",
       "2  0.999762  0.998266  0.999763  \n",
       "3  0.997260  0.999438  0.999745  \n",
       "4  0.999967  0.999999  0.999999  "
      ]
     },
     "execution_count": 25,
     "metadata": {},
     "output_type": "execute_result"
    }
   ],
   "source": [
    "df_final.head()"
   ]
  },
  {
   "cell_type": "markdown",
   "metadata": {},
   "source": [
    "# Saving the DATA :"
   ]
  },
  {
   "cell_type": "code",
   "execution_count": 27,
   "metadata": {},
   "outputs": [],
   "source": [
    "#saving df_final\n",
    "\n",
    "#import pickle\n",
    "\n",
    "#pickle_out = open(\"5-fold-data-skMLPLEP.pickle\",\"wb\")\n",
    "#pickle.dump(df_final, pickle_out)\n",
    "#pickle_out.close()"
   ]
  },
  {
   "cell_type": "code",
   "execution_count": 2,
   "metadata": {},
   "outputs": [
    {
     "data": {
      "text/html": [
       "<div>\n",
       "<style>\n",
       "    .dataframe thead tr:only-child th {\n",
       "        text-align: right;\n",
       "    }\n",
       "\n",
       "    .dataframe thead th {\n",
       "        text-align: left;\n",
       "    }\n",
       "\n",
       "    .dataframe tbody tr th {\n",
       "        vertical-align: top;\n",
       "    }\n",
       "</style>\n",
       "<table border=\"1\" class=\"dataframe\">\n",
       "  <thead>\n",
       "    <tr style=\"text-align: right;\">\n",
       "      <th></th>\n",
       "      <th>y_test</th>\n",
       "      <th>y_pred0</th>\n",
       "      <th>y_pred1</th>\n",
       "      <th>y_pred2</th>\n",
       "      <th>y_pred3</th>\n",
       "      <th>y_pred4</th>\n",
       "      <th>y_prob0</th>\n",
       "      <th>y_prob1</th>\n",
       "      <th>y_prob2</th>\n",
       "      <th>y_prob3</th>\n",
       "      <th>y_prob4</th>\n",
       "    </tr>\n",
       "  </thead>\n",
       "  <tbody>\n",
       "    <tr>\n",
       "      <th>0</th>\n",
       "      <td>3</td>\n",
       "      <td>0</td>\n",
       "      <td>2</td>\n",
       "      <td>2</td>\n",
       "      <td>1</td>\n",
       "      <td>3</td>\n",
       "      <td>0.987958</td>\n",
       "      <td>0.995997</td>\n",
       "      <td>0.999838</td>\n",
       "      <td>0.999888</td>\n",
       "      <td>0.999999</td>\n",
       "    </tr>\n",
       "    <tr>\n",
       "      <th>1</th>\n",
       "      <td>2</td>\n",
       "      <td>1</td>\n",
       "      <td>3</td>\n",
       "      <td>3</td>\n",
       "      <td>2</td>\n",
       "      <td>2</td>\n",
       "      <td>0.902727</td>\n",
       "      <td>0.999377</td>\n",
       "      <td>0.999865</td>\n",
       "      <td>0.999989</td>\n",
       "      <td>0.998675</td>\n",
       "    </tr>\n",
       "    <tr>\n",
       "      <th>2</th>\n",
       "      <td>0</td>\n",
       "      <td>0</td>\n",
       "      <td>0</td>\n",
       "      <td>1</td>\n",
       "      <td>2</td>\n",
       "      <td>0</td>\n",
       "      <td>0.999996</td>\n",
       "      <td>0.999960</td>\n",
       "      <td>0.999762</td>\n",
       "      <td>0.998266</td>\n",
       "      <td>0.999763</td>\n",
       "    </tr>\n",
       "    <tr>\n",
       "      <th>3</th>\n",
       "      <td>2</td>\n",
       "      <td>1</td>\n",
       "      <td>3</td>\n",
       "      <td>2</td>\n",
       "      <td>1</td>\n",
       "      <td>2</td>\n",
       "      <td>0.999520</td>\n",
       "      <td>1.000000</td>\n",
       "      <td>0.997260</td>\n",
       "      <td>0.999438</td>\n",
       "      <td>0.999745</td>\n",
       "    </tr>\n",
       "    <tr>\n",
       "      <th>4</th>\n",
       "      <td>3</td>\n",
       "      <td>0</td>\n",
       "      <td>0</td>\n",
       "      <td>1</td>\n",
       "      <td>3</td>\n",
       "      <td>3</td>\n",
       "      <td>0.999781</td>\n",
       "      <td>0.999987</td>\n",
       "      <td>0.999967</td>\n",
       "      <td>0.999999</td>\n",
       "      <td>0.999999</td>\n",
       "    </tr>\n",
       "    <tr>\n",
       "      <th>5</th>\n",
       "      <td>1</td>\n",
       "      <td>0</td>\n",
       "      <td>0</td>\n",
       "      <td>2</td>\n",
       "      <td>0</td>\n",
       "      <td>1</td>\n",
       "      <td>0.999248</td>\n",
       "      <td>0.999990</td>\n",
       "      <td>0.999573</td>\n",
       "      <td>0.999950</td>\n",
       "      <td>0.999886</td>\n",
       "    </tr>\n",
       "    <tr>\n",
       "      <th>6</th>\n",
       "      <td>2</td>\n",
       "      <td>1</td>\n",
       "      <td>1</td>\n",
       "      <td>1</td>\n",
       "      <td>0</td>\n",
       "      <td>2</td>\n",
       "      <td>0.997429</td>\n",
       "      <td>0.999948</td>\n",
       "      <td>0.766945</td>\n",
       "      <td>0.999911</td>\n",
       "      <td>0.999993</td>\n",
       "    </tr>\n",
       "    <tr>\n",
       "      <th>7</th>\n",
       "      <td>1</td>\n",
       "      <td>2</td>\n",
       "      <td>3</td>\n",
       "      <td>0</td>\n",
       "      <td>3</td>\n",
       "      <td>1</td>\n",
       "      <td>0.999903</td>\n",
       "      <td>0.998525</td>\n",
       "      <td>0.999890</td>\n",
       "      <td>1.000000</td>\n",
       "      <td>0.999815</td>\n",
       "    </tr>\n",
       "    <tr>\n",
       "      <th>8</th>\n",
       "      <td>2</td>\n",
       "      <td>1</td>\n",
       "      <td>2</td>\n",
       "      <td>3</td>\n",
       "      <td>2</td>\n",
       "      <td>2</td>\n",
       "      <td>0.999752</td>\n",
       "      <td>0.999925</td>\n",
       "      <td>0.744398</td>\n",
       "      <td>0.999976</td>\n",
       "      <td>0.998571</td>\n",
       "    </tr>\n",
       "    <tr>\n",
       "      <th>9</th>\n",
       "      <td>0</td>\n",
       "      <td>0</td>\n",
       "      <td>0</td>\n",
       "      <td>2</td>\n",
       "      <td>3</td>\n",
       "      <td>0</td>\n",
       "      <td>0.993324</td>\n",
       "      <td>0.999980</td>\n",
       "      <td>0.999988</td>\n",
       "      <td>0.999986</td>\n",
       "      <td>0.999964</td>\n",
       "    </tr>\n",
       "  </tbody>\n",
       "</table>\n",
       "</div>"
      ],
      "text/plain": [
       "   y_test  y_pred0  y_pred1  y_pred2  y_pred3  y_pred4   y_prob0   y_prob1  \\\n",
       "0       3        0        2        2        1        3  0.987958  0.995997   \n",
       "1       2        1        3        3        2        2  0.902727  0.999377   \n",
       "2       0        0        0        1        2        0  0.999996  0.999960   \n",
       "3       2        1        3        2        1        2  0.999520  1.000000   \n",
       "4       3        0        0        1        3        3  0.999781  0.999987   \n",
       "5       1        0        0        2        0        1  0.999248  0.999990   \n",
       "6       2        1        1        1        0        2  0.997429  0.999948   \n",
       "7       1        2        3        0        3        1  0.999903  0.998525   \n",
       "8       2        1        2        3        2        2  0.999752  0.999925   \n",
       "9       0        0        0        2        3        0  0.993324  0.999980   \n",
       "\n",
       "    y_prob2   y_prob3   y_prob4  \n",
       "0  0.999838  0.999888  0.999999  \n",
       "1  0.999865  0.999989  0.998675  \n",
       "2  0.999762  0.998266  0.999763  \n",
       "3  0.997260  0.999438  0.999745  \n",
       "4  0.999967  0.999999  0.999999  \n",
       "5  0.999573  0.999950  0.999886  \n",
       "6  0.766945  0.999911  0.999993  \n",
       "7  0.999890  1.000000  0.999815  \n",
       "8  0.744398  0.999976  0.998571  \n",
       "9  0.999988  0.999986  0.999964  "
      ]
     },
     "execution_count": 2,
     "metadata": {},
     "output_type": "execute_result"
    }
   ],
   "source": [
    "#load\n",
    "\n",
    "import pickle\n",
    "\n",
    "\n",
    "pickle_in = open(\"5-fold-data-skMLPLEP.pickle\",\"rb\")\n",
    "df_fin = pickle.load(pickle_in)\n",
    "df_fin.head(10)"
   ]
  },
  {
   "cell_type": "code",
   "execution_count": 3,
   "metadata": {},
   "outputs": [],
   "source": [
    "\n",
    "pd_y_test = pd.DataFrame( {'y_test':df_fin['y_test']})\n",
    "y_pred = [df_fin['y_pred'+str(i)] for i in range(K)]\n",
    "y_prob = [df_fin['y_prob'+str(i)] for i in range(K)]"
   ]
  },
  {
   "cell_type": "code",
   "execution_count": 4,
   "metadata": {},
   "outputs": [],
   "source": [
    "df_final00 = pd.concat([pd_y_test,pd.DataFrame({'y_pred':y_pred[0]}),pd.DataFrame({'y_prob':y_prob[0]})], axis=1)\n",
    "df_final11 = pd.concat([pd_y_test,pd.DataFrame({'y_pred':y_pred[1]}),pd.DataFrame({'y_prob':y_prob[1]})], axis=1)\n",
    "df_final22 = pd.concat([pd_y_test,pd.DataFrame({'y_pred':y_pred[2]}),pd.DataFrame({'y_prob':y_prob[2]})], axis=1)\n",
    "df_final33 = pd.concat([pd_y_test,pd.DataFrame({'y_pred':y_pred[3]}),pd.DataFrame({'y_prob':y_prob[3]})], axis=1)\n",
    "df_final44 = pd.concat([pd_y_test,pd.DataFrame({'y_pred':y_pred[4]}),pd.DataFrame({'y_prob':y_prob[4]})], axis=1)\n",
    "df_list =[df_final00,df_final11,df_final22,df_final33,df_final44] #40000 test events\n"
   ]
  },
  {
   "cell_type": "code",
   "execution_count": 5,
   "metadata": {},
   "outputs": [
    {
     "data": {
      "text/html": [
       "<div>\n",
       "<style>\n",
       "    .dataframe thead tr:only-child th {\n",
       "        text-align: right;\n",
       "    }\n",
       "\n",
       "    .dataframe thead th {\n",
       "        text-align: left;\n",
       "    }\n",
       "\n",
       "    .dataframe tbody tr th {\n",
       "        vertical-align: top;\n",
       "    }\n",
       "</style>\n",
       "<table border=\"1\" class=\"dataframe\">\n",
       "  <thead>\n",
       "    <tr style=\"text-align: right;\">\n",
       "      <th></th>\n",
       "      <th>y_test</th>\n",
       "      <th>y_pred</th>\n",
       "      <th>y_prob</th>\n",
       "    </tr>\n",
       "  </thead>\n",
       "  <tbody>\n",
       "    <tr>\n",
       "      <th>0</th>\n",
       "      <td>3</td>\n",
       "      <td>3</td>\n",
       "      <td>0.999999</td>\n",
       "    </tr>\n",
       "    <tr>\n",
       "      <th>1</th>\n",
       "      <td>2</td>\n",
       "      <td>2</td>\n",
       "      <td>0.998675</td>\n",
       "    </tr>\n",
       "    <tr>\n",
       "      <th>2</th>\n",
       "      <td>0</td>\n",
       "      <td>0</td>\n",
       "      <td>0.999763</td>\n",
       "    </tr>\n",
       "    <tr>\n",
       "      <th>3</th>\n",
       "      <td>2</td>\n",
       "      <td>2</td>\n",
       "      <td>0.999745</td>\n",
       "    </tr>\n",
       "    <tr>\n",
       "      <th>4</th>\n",
       "      <td>3</td>\n",
       "      <td>3</td>\n",
       "      <td>0.999999</td>\n",
       "    </tr>\n",
       "  </tbody>\n",
       "</table>\n",
       "</div>"
      ],
      "text/plain": [
       "   y_test  y_pred    y_prob\n",
       "0       3       3  0.999999\n",
       "1       2       2  0.998675\n",
       "2       0       0  0.999763\n",
       "3       2       2  0.999745\n",
       "4       3       3  0.999999"
      ]
     },
     "execution_count": 5,
     "metadata": {},
     "output_type": "execute_result"
    }
   ],
   "source": [
    "df_list[4].head()"
   ]
  },
  {
   "cell_type": "code",
   "execution_count": 6,
   "metadata": {},
   "outputs": [],
   "source": [
    "TPR = []\n",
    "FPR = []\n",
    "\n",
    "TPR_final = []\n",
    "FPR_final = []\n",
    "for i in range(K): \n",
    "    df_list_0 = pd.DataFrame({})\n",
    "    df_list_1 = pd.DataFrame({})\n",
    "    df_list_2 = pd.DataFrame({})\n",
    "    df_list_3 = pd.DataFrame({})\n",
    "    \n",
    "#    df_list_0 = df_list[i][df_list[i]['y_test'] == 0]\n",
    "#    df_list_1 = df_list[i][df_list[i]['y_test'] == 1]\n",
    "#    df_list_2 = df_list[i][df_list[i]['y_test'] == 2]\n",
    "#    df_list_3 = df_list[i][df_list[i]['y_test'] == 3]\n",
    "    \n",
    "    shift = 500\n",
    "    sh = 0\n",
    "    threshold = [sh + (1-sh)*((i+1)/shift) for i in range(shift)]\n",
    "    count_0_ROC = []\n",
    "    count_1_ROC = []\n",
    "    count_2_ROC = []\n",
    "    count_3_ROC = []\n",
    "\n",
    "    countf_0_ROC = []\n",
    "    countf_1_ROC = []\n",
    "    countf_2_ROC = []\n",
    "    countf_3_ROC = []\n",
    "\n",
    "    for thr in threshold:\n",
    "        \n",
    "        #count the True positive of class-0,1, 2 and 3:\n",
    "        n0tp_ROC = df_list[i][(df_list[i]['y_test'] == 0) & (df_list[i].y_pred == 0) & (df_list[i].y_prob > thr)].count()        \n",
    "        n1tp_ROC = df_list[i][(df_list[i]['y_test'] == 1) & (df_list[i].y_pred == 1) & (df_list[i].y_prob > thr)].count()        \n",
    "        n2tp_ROC = df_list[i][(df_list[i]['y_test'] == 2) & (df_list[i].y_pred == 2) & (df_list[i].y_prob > thr)].count()\n",
    "        n3tp_ROC = df_list[i][(df_list[i]['y_test'] == 3) & (df_list[i].y_pred == 3) & (df_list[i].y_prob > thr)].count()\n",
    "\n",
    "        #count the False negative of class-0,1, 2 and 3:\n",
    "        n0fn_ROC = df_list[i][(df_list[i]['y_test'] == 0) & (df_list[i].y_pred == 0) & (df_list[i].y_prob < thr)].count()\n",
    "\n",
    "        n1fn_ROC = df_list[i][(df_list[i]['y_test'] == 1) & (df_list[i].y_pred == 1) & (df_list[i].y_prob < thr)].count() \n",
    "        \n",
    "        n2fn_ROC = df_list[i][(df_list[i]['y_test'] == 2) & (df_list[i].y_pred == 2) & (df_list[i].y_prob < thr)].count() \n",
    "        \n",
    "        n3fn_ROC = df_list[i][(df_list[i]['y_test'] == 3) & (df_list[i].y_pred == 3) & (df_list[i].y_prob < thr)].count()             \n",
    "        \n",
    "\n",
    "        # false positive of class-0,1, 2 and 3:\n",
    "        n0fp_ROC = df_list[i][(df_list[i]['y_test'] != 0) & (df_list[i].y_pred == 0) & (df_list[i].y_prob > thr)].count()\n",
    "        n1fp_ROC = df_list[i][(df_list[i]['y_test'] != 1) & (df_list[i].y_pred == 1) & (df_list[i].y_prob > thr)].count()  \n",
    "        n2fp_ROC = df_list[i][(df_list[i]['y_test'] != 2) & (df_list[i].y_pred == 2) & (df_list[i].y_prob > thr)].count()  \n",
    "        n3fp_ROC = df_list[i][(df_list[i]['y_test'] != 3) & (df_list[i].y_pred == 3) & (df_list[i].y_prob > thr)].count()  \n",
    "\n",
    "       # true negative of class-0,1, 2 and 3:\n",
    "        n0tn_ROC = df_list[i][(df_list[i]['y_test'] != 0) & (df_list[i].y_pred != 0) & (df_list[i].y_prob < thr)].count()\n",
    "        n1tn_ROC = df_list[i][(df_list[i]['y_test'] != 1) & (df_list[i].y_pred != 1) & (df_list[i].y_prob < thr)].count() \n",
    "        n2tn_ROC = df_list[i][(df_list[i]['y_test'] != 2) & (df_list[i].y_pred != 2) & (df_list[i].y_prob < thr)].count() \n",
    "        n3tn_ROC = df_list[i][(df_list[i]['y_test'] != 3) & (df_list[i].y_pred != 3) & (df_list[i].y_prob < thr)].count() \n",
    "\n",
    "\n",
    "    #    #creating a list with the results for TPR and FPR:\n",
    "        \n",
    "        count_0_ROC.append(n0tp_ROC[0]/(n0tp_ROC[0] + n0fn_ROC[0] ))   #TPR = TP/(TP  + FN)\n",
    "        count_1_ROC.append(n1tp_ROC[0]/(n1tp_ROC[0] + n1fn_ROC[0] )) \n",
    "        count_2_ROC.append(n2tp_ROC[0]/(n2tp_ROC[0] + n2fn_ROC[0] ))     \n",
    "        count_3_ROC.append(n3tp_ROC[0]/(n3tp_ROC[0] + n3fn_ROC[0] ))     \n",
    "\n",
    "        countf_0_ROC.append( n0fp_ROC[0]/(n0tn_ROC[0]+ n0fp_ROC[0] ))     #FPR = FP / (FP + TN)  \n",
    "        countf_1_ROC.append( n1fp_ROC[0]/(n1tn_ROC[0]+ n1fp_ROC[0] ))\n",
    "        countf_2_ROC.append( n2fp_ROC[0]/(n2tn_ROC[0] + n2fp_ROC[0] ))\n",
    "        countf_3_ROC.append(n3fp_ROC[0]/(n3tn_ROC[0]+ n3fp_ROC[0] ))\n",
    "\n",
    "    \n",
    "    \n",
    "        TPR =[count_0_ROC,count_1_ROC,count_2_ROC,count_3_ROC]\n",
    "        FPR = [countf_0_ROC,countf_1_ROC,countf_2_ROC,countf_3_ROC]\n",
    "        \n",
    "    TPR_final.append(TPR)\n",
    "    FPR_final.append(FPR)"
   ]
  },
  {
   "cell_type": "code",
   "execution_count": 7,
   "metadata": {},
   "outputs": [],
   "source": [
    "#np.average([TPR_final[i][3][19]for i in range(K)] )  # K x class x thr"
   ]
  },
  {
   "cell_type": "code",
   "execution_count": 8,
   "metadata": {},
   "outputs": [],
   "source": [
    "TPR_ave = []\n",
    "FPR_ave = []\n",
    "for i in range(len(CATEGORIES)):\n",
    "    ccc=[]\n",
    "    ddd=[]\n",
    "    for j in range(shift):\n",
    "        ccc.append(np.average([TPR_final[k][i][j] for k in range(K)]))\n",
    "        ddd.append(np.average([FPR_final[k][i][j] for k in range(K)]))\n",
    "    TPR_ave.append(ccc)\n",
    "    FPR_ave.append(ddd)"
   ]
  },
  {
   "cell_type": "code",
   "execution_count": 9,
   "metadata": {},
   "outputs": [],
   "source": [
    "TPR_std = []\n",
    "FPR_std = []\n",
    "for i in range(len(CATEGORIES)):\n",
    "    ccc=[]\n",
    "    ddd=[]\n",
    "    for j in range(shift):\n",
    "        ccc.append(np.std([TPR_final[k][i][j] for k in range(K)]))\n",
    "        ddd.append(np.std([FPR_final[k][i][j] for k in range(K)]))\n",
    "    TPR_std.append(ccc)\n",
    "    FPR_std.append(ddd)"
   ]
  },
  {
   "cell_type": "code",
   "execution_count": 10,
   "metadata": {},
   "outputs": [
    {
     "data": {
      "text/plain": [
       "<matplotlib.text.Text at 0x2c36bb84400>"
      ]
     },
     "execution_count": 10,
     "metadata": {},
     "output_type": "execute_result"
    },
    {
     "data": {
      "image/png": "[encoded data removed]",
      "text/plain": [
       "<matplotlib.figure.Figure at 0x2c36cf02e10>"
      ]
     },
     "metadata": {},
     "output_type": "display_data"
    }
   ],
   "source": [
    "x_lin = np.linspace(0., 1, shift)\n",
    "number = len(CATEGORIES)\n",
    "cmap = plt.get_cmap('gnuplot')\n",
    "colors = [cmap(i) for i in np.linspace(0, 1, number)]\n",
    "\n",
    "fig, ax = plt.subplots()\n",
    "ax.plot(x_lin, x_lin , '--',color = 'gray')\n",
    "for j , color in enumerate(colors, start=0):\n",
    "    plt.plot(FPR_ave[j],TPR_ave[j],color = color,label= CATEGORIES[j])#xerr=FPR_std[j],\n",
    "    plt.errorbar(FPR_ave[j],TPR_ave[j],yerr=TPR_std[j],color = color,alpha=0.4)\n",
    "    plt.legend(loc='lower right',fontsize=10)\n",
    "plt.xlabel('FPR%')\n",
    "plt.ylabel('TPR%')"
   ]
  },
  {
   "cell_type": "code",
   "execution_count": 11,
   "metadata": {},
   "outputs": [
    {
     "name": "stdout",
     "output_type": "stream",
     "text": [
      "AUC parameter : Electron:0.7972265366524119+-4.5566861254205656e-10\n",
      "AUC parameter : Muon:0.7323202269423364+-7.216656468312581e-14\n",
      "AUC parameter : Tau:0.708074530449132+-4.0848025930268055e-13\n",
      "AUC parameter : Quark:0.8192574153997005+-4.137920783571241e-10\n"
     ]
    }
   ],
   "source": [
    "import numpy as np\n",
    "from pylab import *\n",
    "from scipy.optimize import curve_fit\n",
    "\n",
    "\n",
    "def func(x, b ):\n",
    "\n",
    "    return(np.tanh(b*x))\n",
    "\n",
    "# data \n",
    "x_0 = np.array(FPR_ave[0])\n",
    "x_1 = np.array(FPR_ave[1])\n",
    "x_2 = np.array(FPR_ave[2])\n",
    "x_3 = np.array(FPR_ave[3])\n",
    "\n",
    "y_0 = np.array(TPR_ave[0])\n",
    "y_1 = np.array(TPR_ave[1])\n",
    "y_2 = np.array(TPR_ave[2])\n",
    "y_3 = np.array(TPR_ave[3])\n",
    "\n",
    "# curve fit [with only y-error]\n",
    "popt_0, pcov_0 = curve_fit(func, x_0, y_0) # ,sigma=1./(noise_0*noise_0)\n",
    "perr_0 = np.sqrt(np.diag(pcov_0))\n",
    "popt_1, pcov_1 = curve_fit(func, x_1, y_1) # ,sigma=1./(noise_1*noise_1)\n",
    "perr_1 = np.sqrt(np.diag(pcov_1))\n",
    "popt_2, pcov_2 = curve_fit(func, x_2, y_2) # ,sigma=1./(noise_2*noise_2)\n",
    "perr_2 = np.sqrt(np.diag(pcov_2))\n",
    "popt_3, pcov_3 = curve_fit(func, x_3, y_3) # ,sigma=1./(noise_2*noise_2)\n",
    "perr_3 = np.sqrt(np.diag(pcov_3))\n",
    "\n",
    "\n",
    "fit_0 = func(x_0, popt_0)\n",
    "fit_1 = func(x_1, popt_1)\n",
    "fit_2 = func(x_2, popt_2)\n",
    "fit_3 = func(x_3, popt_3)\n",
    "from scipy import integrate\n",
    "#f0=func(x,popt_0)\n",
    "AUC_0 = integrate.quad(func, 0, 1,args=popt_0)\n",
    "AUC_1 = integrate.quad(func, 0, 1,args=popt_1)\n",
    "AUC_2 = integrate.quad(func, 0, 1,args=popt_2)\n",
    "AUC_3 = integrate.quad(func, 0, 1,args=popt_3)\n",
    "print('AUC parameter :',str(CATEGORIES[0])+ ':'+ str(AUC_0[0]) + '+-' + str(AUC_0[1]) )\n",
    "print('AUC parameter :',str(CATEGORIES[1])+ ':' +str(AUC_1[0]) + '+-' + str(AUC_1[1]) )\n",
    "print('AUC parameter :',CATEGORIES[2]+ ':' + str(AUC_2[0]) + '+-' + str(AUC_2[1]) )\n",
    "print('AUC parameter :',CATEGORIES[3]+ ':' + str(AUC_3[0]) + '+-' + str(AUC_3[1]) )"
   ]
  },
  {
   "cell_type": "markdown",
   "metadata": {},
   "source": [
    "## By the use of keras we have achieved the follow AUC parameters\n",
    "\n",
    "AUC parameter : Electron:0.7999474887646882+-5.187713678145928e-10\n",
    "\n",
    "AUC parameter : Muon:0.724573735598428+-3.602215918207911e-13\n",
    "\n",
    "AUC parameter : Tau:0.7012339942923979+-3.2358704156963667e-13\n",
    "\n",
    "AUC parameter : Quark:0.8192454954889842+-4.145071803506032e-10"
   ]
  },
  {
   "cell_type": "markdown",
   "metadata": {},
   "source": [
    "# quite similar!"
   ]
  },
  {
   "cell_type": "code",
   "execution_count": null,
   "metadata": {},
   "outputs": [],
   "source": []
  }
 ],
 "metadata": {
  "kernelspec": {
   "display_name": "Python 3",
   "language": "python",
   "name": "python3"
  },
  "language_info": {
   "codemirror_mode": {
    "name": "ipython",
    "version": 3
   },
   "file_extension": ".py",
   "mimetype": "text/x-python",
   "name": "python",
   "nbconvert_exporter": "python",
   "pygments_lexer": "ipython3",
   "version": "3.6.1"
  }
 },
 "nbformat": 4,
 "nbformat_minor": 2
}
