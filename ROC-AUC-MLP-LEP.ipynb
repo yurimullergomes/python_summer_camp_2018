{
 "cells": [
  {
   "cell_type": "code",
   "execution_count": 1,
   "metadata": {},
   "outputs": [
    {
     "name": "stderr",
     "output_type": "stream",
     "text": [
      "c:\\programdata\\anaconda3\\lib\\site-packages\\h5py\\__init__.py:34: FutureWarning: Conversion of the second argument of issubdtype from `float` to `np.floating` is deprecated. In future, it will be treated as `np.float64 == np.dtype(float).type`.\n",
      "  from ._conv import register_converters as _register_converters\n"
     ]
    }
   ],
   "source": [
    "import tensorflow as tf\n",
    "import pickle\n",
    "import numpy as np\n",
    "import pandas as pd\n",
    "import matplotlib.pyplot as plt\n",
    "import pandas as pd\n",
    "%matplotlib inline\n",
    "\n",
    "CATEGORIES = ['Electron','Muon','Tau','Quark']"
   ]
  },
  {
   "cell_type": "code",
   "execution_count": 2,
   "metadata": {},
   "outputs": [],
   "source": [
    "pickle_in = open(\"XLEP.pickle\",\"rb\")\n",
    "X0 = pickle.load(pickle_in)\n",
    "\n",
    "pickle_in = open(\"yLEP.pickle\",\"rb\")\n",
    "z0 = pickle.load(pickle_in)\n",
    "\n",
    "X = np.array(X0)\n",
    "\n",
    "y = np.array(z0)"
   ]
  },
  {
   "cell_type": "code",
   "execution_count": 3,
   "metadata": {},
   "outputs": [],
   "source": [
    "df = 10\n",
    "X_test = np.array([X[i] for i in range((len(X)//df))])\n",
    "X_train = np.array([X[i] for i in range((len(X)//df),len(X))])\n",
    "\n",
    "y_test = np.array([y[i] for i in range((len(y)//df))])\n",
    "y_train = np.array([y[i] for i in range((len(y)//df),len(y))])"
   ]
  },
  {
   "cell_type": "code",
   "execution_count": 4,
   "metadata": {},
   "outputs": [],
   "source": [
    "from sklearn.preprocessing import StandardScaler\n",
    "scaler = StandardScaler()\n",
    "\n",
    "# Fit only to the training data\n",
    "scaler.fit(X_train)\n",
    "\n",
    "# Now apply the transformations to the data:\n",
    "X_train = scaler.transform(X_train)\n",
    "X_test = scaler.transform(X_test)"
   ]
  },
  {
   "cell_type": "code",
   "execution_count": 5,
   "metadata": {},
   "outputs": [],
   "source": [
    "new_model = tf.keras.models.load_model('final-LEP-0.3-dr-128-l-1-de.model') #loading the model"
   ]
  },
  {
   "cell_type": "code",
   "execution_count": 6,
   "metadata": {},
   "outputs": [],
   "source": [
    "predictions = new_model.predict(X_test)"
   ]
  },
  {
   "cell_type": "code",
   "execution_count": 7,
   "metadata": {},
   "outputs": [
    {
     "name": "stdout",
     "output_type": "stream",
     "text": [
      "40000/40000 [==============================] - 1s 25us/step\n"
     ]
    }
   ],
   "source": [
    "score = new_model.evaluate(X_test,y_test)"
   ]
  },
  {
   "cell_type": "code",
   "execution_count": 8,
   "metadata": {},
   "outputs": [
    {
     "data": {
      "text/plain": [
       "[0.035254014251986515, 0.986725]"
      ]
     },
     "execution_count": 8,
     "metadata": {},
     "output_type": "execute_result"
    }
   ],
   "source": [
    "score"
   ]
  },
  {
   "cell_type": "code",
   "execution_count": 9,
   "metadata": {},
   "outputs": [
    {
     "data": {
      "text/plain": [
       "array([[<matplotlib.axes._subplots.AxesSubplot object at 0x000002126AFDB7F0>]],\n",
       "      dtype=object)"
      ]
     },
     "execution_count": 9,
     "metadata": {},
     "output_type": "execute_result"
    },
    {
     "data": {
      "image/png": "[encoded data removed]",
      "text/plain": [
       "<matplotlib.figure.Figure at 0x21275f47390>"
      ]
     },
     "metadata": {},
     "output_type": "display_data"
    }
   ],
   "source": [
    "pd_y_t = pd.DataFrame({'y_test':y_test})\n",
    "pd_y_t.hist()"
   ]
  },
  {
   "cell_type": "code",
   "execution_count": 10,
   "metadata": {},
   "outputs": [
    {
     "name": "stdout",
     "output_type": "stream",
     "text": [
      "Efficiency: Electron 0.9967108541812021\n",
      "Efficiency: Muon 0.9805748265609514\n",
      "Efficiency: Tau 0.9728833986140404\n",
      "Efficiency: Quark 0.9967741935483871\n"
     ]
    }
   ],
   "source": [
    "\n",
    "\n",
    "import pandas as pd\n",
    "df = pd.DataFrame({'y_test': y_test})\n",
    "#df['y_pred'] = np.array(predictions)\n",
    "\n",
    "#creating a array with the predictions\n",
    "y_pred = [np.argmax(predictions[i]) for i in range(len(y_test))]\n",
    "y_prob = [predictions[i][np.argmax(predictions[i])] for i in range(len(y_test))]\n",
    "\n",
    "\n",
    "pd_y_test = pd.DataFrame({'y_test':y_test})\n",
    "pd_y_prob = pd.DataFrame({'y_prob':y_prob})\n",
    "pd_y_pred = pd.DataFrame({'y_pred':y_pred})\n",
    "\n",
    "df_final = pd.concat([pd_y_pred, pd_y_test,pd_y_prob], axis=1)\n",
    "\n",
    "df_final.head(10)\n",
    "\n",
    "\n",
    "#evaluating the completeness\n",
    "#df_finalsh = df_final.sample(frac=1).reset_index(drop=True)  #shuffle the rows only\n",
    "\n",
    "df_final_0 = df_final[df_final['y_test'] == 0]\n",
    "df_final_1 = df_final[df_final['y_test'] == 1]\n",
    "df_final_2 = df_final[df_final['y_test'] == 2]\n",
    "df_final_3 = df_final[df_final['y_test'] == 3]\n",
    "\n",
    "n0 = df_final_0[df_final_0.y_pred == 0]    # correct predictions for class-0 / threshold=0\n",
    "n1 = df_final_1[df_final_1.y_pred == 1]    # correct predictions for class-1 / threshold=0\n",
    "n2 = df_final_2[df_final_2.y_pred == 2]    # correct predictions for class-2 / threshold=0\n",
    "n3 = df_final_3[df_final_3.y_pred == 3]    # correct predictions for class-3 / threshold=0\n",
    "\n",
    "n_0 = n0.count()                           #number of correct predictions for class-0 / threshold=0\n",
    "n_1 = n1.count()                           #number of correct predictions for class-1 / threshold=0\n",
    "n_2 = n2.count()                           #number of correct predictions for class-0 / threshold=0\n",
    "n_3 = n3.count()                           #number of correct predictions for class-0 / threshold=0\n",
    "\n",
    "count_0 = df_final_0['y_test'].count()     #get the lenght of the sample of class-0,1 and 2\n",
    "count_1 = df_final_1['y_test'].count()\n",
    "count_2 = df_final_2['y_test'].count()\n",
    "count_3 = df_final_3['y_test'].count()\n",
    "\n",
    "print(\"Efficiency:\", CATEGORIES[0], n_0[0]/count_0)\n",
    "print(\"Efficiency:\", CATEGORIES[1],n_1[0]/count_1)\n",
    "print(\"Efficiency:\",CATEGORIES[2],n_2[0]/count_2)\n",
    "print(\"Efficiency:\",CATEGORIES[3],n_3[0]/count_3)\n",
    "\n"
   ]
  },
  {
   "cell_type": "markdown",
   "metadata": {},
   "source": [
    "# How to create a ROC curve? Varying the threshold: \n",
    "#https://towardsdatascience.com/receiver-operating-characteristic-curves-demystified-in-python-bd531a4364d0\n"
   ]
  },
  {
   "cell_type": "code",
   "execution_count": 11,
   "metadata": {},
   "outputs": [
    {
     "data": {
      "text/plain": [
       "<matplotlib.text.Text at 0x2126c73da90>"
      ]
     },
     "execution_count": 11,
     "metadata": {},
     "output_type": "execute_result"
    },
    {
     "data": {
      "image/png": "[encoded data removed]",
      "text/plain": [
       "<matplotlib.figure.Figure at 0x2126c57e7b8>"
      ]
     },
     "metadata": {},
     "output_type": "display_data"
    }
   ],
   "source": [
    "\n",
    "shift = 500\n",
    "threshold = [i/shift for i in range(shift+1)]\n",
    "count_0_ROC = []\n",
    "count_1_ROC = []\n",
    "count_2_ROC = []\n",
    "count_3_ROC = []\n",
    "\n",
    "countf_0_ROC = []\n",
    "countf_1_ROC = []\n",
    "countf_2_ROC = []\n",
    "countf_3_ROC = []\n",
    "\n",
    "for thr in threshold:\n",
    "    #count the True positive of class-0,1, and 2 :\n",
    "    n0tp_ROC = n0[n0.y_prob > thr].count()        \n",
    "    n1tp_ROC = n1[n1.y_prob > thr].count()        \n",
    "    n2tp_ROC = n2[n2.y_prob > thr].count()\n",
    "    n3tp_ROC = n3[n3.y_prob > thr].count()\n",
    "    \n",
    "    #count the False negative of class-0,1 and 2:\n",
    "    n0fn_ROC = n0[n0.y_prob < thr].count()              \n",
    "    n1fn_ROC = n1[n1.y_prob < thr].count()             \n",
    "    n2fn_ROC = n2[n2.y_prob < thr].count()             \n",
    "    n3fn_ROC = n3[n3.y_prob < thr].count()             \n",
    "        \n",
    "    # false positive for class-0,1 and 2:\n",
    "    n0fp_ROC = df_final_0[(df_final_0.y_pred != 0) & (df_final_0.y_prob > thr)].count()\n",
    "    n1fp_ROC = df_final_1[(df_final_1.y_pred != 1) & (df_final_1.y_prob > thr)].count()  \n",
    "    n2fp_ROC = df_final_2[(df_final_2.y_pred != 2) & (df_final_2.y_prob > thr)].count()  \n",
    "    n3fp_ROC = df_final_3[(df_final_3.y_pred != 3) & (df_final_3.y_prob > thr)].count()  \n",
    "    \n",
    "   # true negative for class-0,1 and 2:\n",
    "    n0tn_ROC = df_final_0[(df_final_0.y_pred != 0) & (df_final_0.y_prob < thr)].count()\n",
    "    n1tn_ROC = df_final_1[(df_final_1.y_pred != 1) & (df_final_1.y_prob < thr)].count() \n",
    "    n2tn_ROC = df_final_2[(df_final_2.y_pred != 2) & (df_final_2.y_prob < thr)].count() \n",
    "    n3tn_ROC = df_final_3[(df_final_3.y_pred != 3) & (df_final_3.y_prob < thr)].count() \n",
    "\n",
    "\n",
    "#    #creating a list with the results for TPR and FPR:\n",
    "    count_0_ROC.append(n0tp_ROC[0]/(n0tp_ROC[0] + n0fn_ROC[0]))     #TPR = true positive / (true positive + true negative)  \n",
    "    count_1_ROC.append(n1tp_ROC[0]/(n1tp_ROC[0] + n1fn_ROC[0]))\n",
    "    count_2_ROC.append(n2tp_ROC[0]/(n2tp_ROC[0] + n2fn_ROC[0]))\n",
    "    count_3_ROC.append(n3tp_ROC[0]/(n3tp_ROC[0] + n3fn_ROC[0]))\n",
    "    \n",
    "    countf_0_ROC.append(n0fp_ROC[0]/(n0tn_ROC[0] + n0fp_ROC[0]))   #FPR = false positive/(false negative + false positive)\n",
    "    countf_1_ROC.append(n1fp_ROC[0]/(n1tn_ROC[0] + n1fp_ROC[0])) \n",
    "    countf_2_ROC.append(n2fp_ROC[0]/(n2tn_ROC[0] + n2fp_ROC[0]))     \n",
    "    countf_3_ROC.append(n3fp_ROC[0]/(n3tn_ROC[0] + n3fp_ROC[0]))     \n",
    "\n",
    "    \n",
    "TPR =[count_0_ROC,count_1_ROC,count_2_ROC,count_3_ROC]\n",
    "FPR = [countf_0_ROC,countf_1_ROC,countf_2_ROC,countf_3_ROC]\n",
    "\n",
    "x = np.linspace(0, 1, 1000)\n",
    "\n",
    "fig, ax = plt.subplots()\n",
    "ax.plot(x, x, '--g')\n",
    "\n",
    "for j in range(len(CATEGORIES)):\n",
    "    plt.plot(FPR[j], TPR[j],label= CATEGORIES[j])\n",
    "    plt.legend(loc='lower right',fontsize=10)\n",
    "plt.xlabel('f%')\n",
    "plt.ylabel('C%')"
   ]
  },
  {
   "cell_type": "code",
   "execution_count": 12,
   "metadata": {},
   "outputs": [
    {
     "name": "stdout",
     "output_type": "stream",
     "text": [
      "AUC parameter : Electron:0.9909189221728454+-3.983644769207863e-09\n",
      "AUC parameter : Muon:0.9819396725040568+-8.707472764516628e-09\n",
      "AUC parameter : Tau:0.9639280861534149+-6.697655799070858e-14\n",
      "AUC parameter : Quark:0.9897373764352548+-2.200619846698888e-10\n"
     ]
    }
   ],
   "source": [
    "import numpy as np\n",
    "from pylab import *\n",
    "from scipy.optimize import curve_fit\n",
    "\n",
    "\n",
    "def func(x, b ):\n",
    "\n",
    "    return(np.tanh(b*x))\n",
    "\n",
    "# data \n",
    "x_0 = np.array(FPR[0])\n",
    "x_1 = np.array(FPR[1])\n",
    "x_2 = np.array(FPR[2])\n",
    "x_3 = np.array(FPR[3])\n",
    "\n",
    "y_0 = np.array(TPR[0])\n",
    "y_1 = np.array(TPR[1])\n",
    "y_2 = np.array(TPR[2])\n",
    "y_3 = np.array(TPR[3])\n",
    "\n",
    "# curve fit [with only y-error]\n",
    "popt_0, pcov_0 = curve_fit(func, x_0, y_0) # ,sigma=1./(noise_0*noise_0)\n",
    "perr_0 = np.sqrt(np.diag(pcov_0))\n",
    "popt_1, pcov_1 = curve_fit(func, x_1, y_1) # ,sigma=1./(noise_1*noise_1)\n",
    "perr_1 = np.sqrt(np.diag(pcov_1))\n",
    "popt_2, pcov_2 = curve_fit(func, x_2, y_2) # ,sigma=1./(noise_2*noise_2)\n",
    "perr_2 = np.sqrt(np.diag(pcov_2))\n",
    "popt_3, pcov_3 = curve_fit(func, x_3, y_3) # ,sigma=1./(noise_2*noise_2)\n",
    "perr_3 = np.sqrt(np.diag(pcov_3))\n",
    "\n",
    "\n",
    "fit_0 = func(x_0, popt_0)\n",
    "fit_1 = func(x_1, popt_1)\n",
    "fit_2 = func(x_2, popt_2)\n",
    "fit_3 = func(x_3, popt_3)\n",
    "\n",
    "from scipy import integrate\n",
    "#f0=func(x,popt_0)\n",
    "AUC_0 = integrate.quad(func, 0, 1,args=popt_0)\n",
    "AUC_1 = integrate.quad(func, 0, 1,args=popt_1)\n",
    "AUC_2 = integrate.quad(func, 0, 1,args=popt_2)\n",
    "AUC_3 = integrate.quad(func, 0, 1,args=popt_3)\n",
    "print('AUC parameter :',CATEGORIES[0]+ ':' + str(AUC_0[0]) + '+-' + str(AUC_0[1]) )\n",
    "print('AUC parameter :',CATEGORIES[1]+ ':' + str(AUC_1[0]) + '+-' + str(AUC_1[1]) )\n",
    "print('AUC parameter :',CATEGORIES[2]+ ':' + str(AUC_2[0]) + '+-' + str(AUC_2[1]) )\n",
    "print('AUC parameter :',CATEGORIES[3]+ ':' + str(AUC_3[0]) + '+-' + str(AUC_3[1]) )\n"
   ]
  },
  {
   "cell_type": "code",
   "execution_count": null,
   "metadata": {},
   "outputs": [],
   "source": []
  },
  {
   "cell_type": "code",
   "execution_count": null,
   "metadata": {},
   "outputs": [],
   "source": []
  }
 ],
 "metadata": {
  "kernelspec": {
   "display_name": "Python 3",
   "language": "python",
   "name": "python3"
  },
  "language_info": {
   "codemirror_mode": {
    "name": "ipython",
    "version": 3
   },
   "file_extension": ".py",
   "mimetype": "text/x-python",
   "name": "python",
   "nbconvert_exporter": "python",
   "pygments_lexer": "ipython3",
   "version": "3.6.1"
  }
 },
 "nbformat": 4,
 "nbformat_minor": 2
}
